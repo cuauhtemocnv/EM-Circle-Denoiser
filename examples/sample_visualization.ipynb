{
 "cells": [
  {
   "cell_type": "markdown",
   "metadata": {},
   "source": [
    "# EM Circle Denoiser: Simple Example\n",
    "\n",
    "This notebook demonstrates generating noisy EM-style circles and denoising them with a CNN autoencoder."
   ]
  },
  {
   "cell_type": "code",
   "metadata": {},
   "source": [
    "# Imports\n",
    "import torch\n",
    "from torch.utils.data import DataLoader\n",
    "import matplotlib.pyplot as plt\n",
    "from skimage.measure import find_contours\n",
    "from dataset import CircleDatasetEM\n",
    "from model import Denoiser\n",
    "from utils import weighted_mse"
   ],
   "execution_count": null,
   "outputs": []
  },
  {
   "cell_type": "markdown",
   "metadata": {},
   "source": [
    "## 1. Prepare dataset"
   ]
  },
  {
   "cell_type": "code",
   "metadata": {},
   "source": [
    "dataset = CircleDatasetEM(num_samples=10)\n",
    "loader = DataLoader(dataset, batch_size=2, shuffle=True)"
   ],
   "execution_count": null,
   "outputs": []
  },
  {
   "cell_type": "markdown",
   "metadata": {},
   "source": [
    "## 2. Initialize model and optimizer"
   ]
  },
  {
   "cell_type": "code",
   "metadata": {},
   "source": [
    "device = 'cuda' if torch.cuda.is_available() else 'cpu'\n",
    "model = Denoiser().to(device)\n",
    "optimizer = torch.optim.Adam(model.parameters(), lr=1e-3)"
   ],
   "execution_count": null,
   "outputs": []
  },
  {
   "cell_type": "markdown",
   "metadata": {},
   "source": [
    "## 3. Simple training loop (just a few iterations for demo)"
   ]
  },
  {
   "cell_type": "code",
   "metadata": {},
   "source": [
    "for epoch in range(2):  # just 2 epochs for demonstration\n",
    "    for noisy, clean in loader:\n",
    "        noisy, clean = noisy.to(device), clean.to(device)\n",
    "        out = model(noisy)\n",
    "        loss = weighted_mse(out, clean, weight=10.0)\n",
    "        optimizer.zero_grad()\n",
    "        loss.backward()\n",
    "        optimizer.step()\n",
    "    print(f'Epoch {epoch+1} done, loss={loss.item():.4f}')"
   ],
   "execution_count": null,
   "outputs": []
  },
  {
   "cell_type": "markdown",
   "metadata": {},
   "source": [
    "## 4. Visualize some examples"
   ]
  },
  {
   "cell_type": "code",
   "metadata": {},
   "source": [
    "for i in range(3):\n",
    "    noisy, clean = dataset[i]\n",
    "    noisy_batch = noisy.unsqueeze(0).to(device)\n",
    "    with torch.no_grad():\n",
    "        denoised = model(noisy_batch).cpu().squeeze().numpy()\n",
    "    \n",
    "    contours = find_contours(clean.squeeze().numpy(), 0.5)\n",
    "    fig, axes = plt.subplots(1, 4, figsize=(16,4))\n",
    "    titles = ['Noisy 1', 'Noisy 2', 'Noisy 3', 'Denoised']\n",
    "    imgs = [noisy[0].numpy(), noisy[1].numpy(), noisy[2].numpy(), denoised]\n",
    "    \n",
    "    for ax, img, title in zip(axes, imgs, titles):\n",
    "        ax.imshow(img, cmap='gray')\n",
    "        ax.set_title(title)\n",
    "        ax.axis('off')\n",
    "        for contour in contours:\n",
    "            ax.plot(contour[:,1], contour[:,0], color='red', linewidth=2)\n",
    "    plt.show()"
   ],
   "execution_count": null,
   "outputs": []
  },
  {
   "cell_type": "markdown",
   "metadata": {},
   "source": [
    "### ✅ Notes\n",
    "- This notebook trains the model for **very few iterations** just for demonstration.\n",
    "- Red contours highlight the original circle.\n",
    "- 3 noisy versions of the same circle are denoised into a single clean output."
   ]
  }
 ],
 "metadata": {
  "kernelspec": {
   "display_name": "Python 3",
   "language": "python",
   "name": "python3"
  },
  "language_info": {
   "name": "python",
   "version": "3.11"
  }
 },
 "nbformat": 4,
 "nbformat_minor": 5
}
