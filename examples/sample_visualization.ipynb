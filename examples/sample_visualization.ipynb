{
 "cells": [
  {
   "cell_type": "markdown",
   "metadata": {},
   "source": [
    "# EM Circle Denoiser: Step-by-Step Visualization\n",
    "\n",
    "This notebook walks through generating EM-style noisy images, denoising them with a CNN, and visualizing latent space structure."
   ]
  },
  {
   "cell_type": "code",
   "metadata": {},
   "source": [
    "# Imports\n",
    "import torch\n",
    "from torch.utils.data import DataLoader\n",
    "import matplotlib.pyplot as plt\n",
    "from sklearn.decomposition import PCA\n",
    "from dataset import CircleDatasetEM\n",
    "from model import Denoiser\n",
    "from utils import weighted_mse\n",
    "import numpy as np\n",
    "from skimage.measure import find_contours\n",
    "\n",
    "# Device\n",
    "device = 'cuda' if torch.cuda.is_available() else 'cpu'"
   ],
   "execution_count": null,
   "outputs": []
  },
  {
   "cell_type": "markdown",
   "metadata": {},
   "source": [
    "## 1. Load dataset and visualize some noisy images"
   ]
  },
  {
   "cell_type": "code",
   "metadata": {},
   "source": [
    "dataset = CircleDatasetEM(num_samples=5)\n",
    "for i in range(3):\n",
    "    noisy, clean = dataset[i]\n",
    "    fig, axes = plt.subplots(1, 4, figsize=(16,4))\n",
    "    titles = ['Noisy 1', 'Noisy 2', 'Noisy 3', 'Clean']\n",
    "    imgs = [noisy[0], noisy[1], noisy[2], clean.squeeze()]\n",
    "    for ax, img, title in zip(axes, imgs, titles):\n",
    "        ax.imshow(img, cmap='gray')\n",
    "        ax.set_title(title)\n",
    "        ax.axis('off')\n",
    "    plt.show()"
   ],
   "execution_count": null,
   "outputs": []
  },
  {
   "cell_type": "markdown",
   "metadata": {},
   "source": [
    "## 2. Initialize and inspect the model"
   ]
  },
  {
   "cell_type": "code",
   "metadata": {},
   "source": [
    "model = Denoiser().to(device)\n",
    "model.eval()\n",
    "\n",
    "# Encode a batch of noisy images and inspect output shapes\n",
    "noisy, clean = dataset[0]\n",
    "noisy_batch = noisy.unsqueeze(0).to(device)  # shape (1, 3, H, W)\n",
    "with torch.no_grad():\n",
    "    denoised = model(noisy_batch)\n",
    "\n",
    "print('Input shape:', noisy_batch.shape)\n",
    "print('Denoised output shape:', denoised.shape)"
   ],
   "execution_count": null,
   "outputs": []
  },
  {
   "cell_type": "markdown",
   "metadata": {},
   "source": [
    "## 3. Visualize denoised results with highlighted circle"
   ]
  },
  {
   "cell_type": "code",
   "metadata": {},
   "source": [
    "contours = find_contours(clean.squeeze().numpy(), 0.5)\n",
    "fig, axes = plt.subplots(1, 4, figsize=(16,4))\n",
    "titles = ['Noisy 1', 'Noisy 2', 'Noisy 3', 'Denoised']\n",
    "imgs = [noisy[0].numpy(), noisy[1].numpy(), noisy[2].numpy(), denoised.cpu().squeeze().numpy()]\n",
    "\n",
    "for ax, img, title in zip(axes, imgs, titles):\n",
    "    ax.imshow(img, cmap='gray')\n",
    "    ax.set_title(title)\n",
    "    ax.axis('off')\n",
    "    for contour in contours:\n",
    "        ax.plot(contour[:,1], contour[:,0], color='red', linewidth=2)\n",
    "\n",
    "plt.show()"
   ],
   "execution_count": null,
   "outputs": []
  },
  {
   "cell_type": "markdown",
   "metadata": {},
   "source": [
    "## 4. Latent-space inspection\n",
    "\n",
    "We can encode images using the CNN encoder and visualize them in 2D with PCA to see how similar noisy instances cluster together."
   ]
  },
  {
   "cell_type": "code",
   "metadata": {},
   "source": [
    "# Collect latent vectors for dataset\n",
    "latents = []\n",
    "loader = DataLoader(dataset, batch_size=1, shuffle=False)\n",
    "\n",
    "for noisy, clean in loader:\n",
    "    noisy = noisy.to(device)\n",
    "    with torch.no_grad():\n",
    "        z = model.encoder(noisy).view(noisy.size(0), -1)  # flatten\n",
    "        latents.append(z.cpu().numpy())\n",
    "\n",
    "latents = np.vstack(latents)\n",
    "print('Latent vectors shape:', latents.shape)\n",
    "\n",
    "# PCA to 2D\n",
    "pca = PCA(n_components=2)\n",
    "latents_2d = pca.fit_transform(latents)\n",
    "\n",
    "plt.figure(figsize=(6,6))\n",
    "plt.scatter(latents_2d[:,0], latents_2d[:,1], alpha=0.7)\n",
    "plt.title('Latent space (2D PCA) of nois
